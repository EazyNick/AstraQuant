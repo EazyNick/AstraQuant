{
 "cells": [
  {
   "cell_type": "code",
   "execution_count": 2,
   "metadata": {},
   "outputs": [
    {
     "name": "stderr",
     "output_type": "stream",
     "text": [
      "[*********************100%***********************]  1 of 1 completed"
     ]
    },
    {
     "name": "stderr",
     "output_type": "stream",
     "text": [
      "\n"
     ]
    },
    {
     "name": "stdout",
     "output_type": "stream",
     "text": [
      "Data saved to csv\\sp500_training_data.csv\n"
     ]
    },
    {
     "name": "stderr",
     "output_type": "stream",
     "text": [
      "[*********************100%***********************]  1 of 1 completed\n",
      "[*********************100%***********************]  1 of 1 completed\n"
     ]
    },
    {
     "name": "stdout",
     "output_type": "stream",
     "text": [
      "Data saved to csv\\sp500_test_data.csv\n",
      "📥 Downloading AAPL training data...\n"
     ]
    },
    {
     "name": "stderr",
     "output_type": "stream",
     "text": [
      "[*********************100%***********************]  1 of 1 completed"
     ]
    },
    {
     "name": "stdout",
     "output_type": "stream",
     "text": [
      "Data saved to csv\\AAPL_training_data.csv\n",
      "📥 Downloading TSLA training data...\n"
     ]
    },
    {
     "name": "stderr",
     "output_type": "stream",
     "text": [
      "\n",
      "[*********************100%***********************]  1 of 1 completed"
     ]
    },
    {
     "name": "stdout",
     "output_type": "stream",
     "text": [
      "Data saved to csv\\TSLA_training_data.csv\n",
      "📥 Downloading GOOGL training data...\n"
     ]
    },
    {
     "name": "stderr",
     "output_type": "stream",
     "text": [
      "\n",
      "[*********************100%***********************]  1 of 1 completed"
     ]
    },
    {
     "name": "stdout",
     "output_type": "stream",
     "text": [
      "Data saved to csv\\GOOGL_training_data.csv\n",
      "📥 Downloading MSFT training data...\n"
     ]
    },
    {
     "name": "stderr",
     "output_type": "stream",
     "text": [
      "\n",
      "[*********************100%***********************]  1 of 1 completed"
     ]
    },
    {
     "name": "stdout",
     "output_type": "stream",
     "text": [
      "Data saved to csv\\MSFT_training_data.csv\n",
      "📥 Downloading AMZN training data...\n"
     ]
    },
    {
     "name": "stderr",
     "output_type": "stream",
     "text": [
      "\n"
     ]
    },
    {
     "name": "stdout",
     "output_type": "stream",
     "text": [
      "Data saved to csv\\AMZN_training_data.csv\n",
      "📥 Downloading AAPL test data...\n"
     ]
    },
    {
     "name": "stderr",
     "output_type": "stream",
     "text": [
      "[*********************100%***********************]  1 of 1 completed\n",
      "[*********************100%***********************]  1 of 1 completed"
     ]
    },
    {
     "name": "stdout",
     "output_type": "stream",
     "text": [
      "Data saved to csv\\AAPL_test_data.csv\n",
      "📥 Downloading TSLA test data...\n"
     ]
    },
    {
     "name": "stderr",
     "output_type": "stream",
     "text": [
      "\n"
     ]
    },
    {
     "name": "stdout",
     "output_type": "stream",
     "text": [
      "Data saved to csv\\TSLA_test_data.csv\n",
      "📥 Downloading GOOGL test data...\n"
     ]
    },
    {
     "name": "stderr",
     "output_type": "stream",
     "text": [
      "[*********************100%***********************]  1 of 1 completed\n"
     ]
    },
    {
     "name": "stdout",
     "output_type": "stream",
     "text": [
      "Data saved to csv\\GOOGL_test_data.csv\n",
      "📥 Downloading MSFT test data...\n"
     ]
    },
    {
     "name": "stderr",
     "output_type": "stream",
     "text": [
      "[*********************100%***********************]  1 of 1 completed\n",
      "[*********************100%***********************]  1 of 1 completed"
     ]
    },
    {
     "name": "stdout",
     "output_type": "stream",
     "text": [
      "Data saved to csv\\MSFT_test_data.csv\n",
      "📥 Downloading AMZN test data...\n",
      "Data saved to csv\\AMZN_test_data.csv\n"
     ]
    },
    {
     "name": "stderr",
     "output_type": "stream",
     "text": [
      "\n"
     ]
    }
   ],
   "source": [
    "import yfinance as yf\n",
    "import pandas as pd\n",
    "import os\n",
    "\n",
    "def calculate_moving_average(data, window):\n",
    "    \"\"\"\n",
    "    이동 평균을 계산하는 함수.\n",
    "    \"\"\"\n",
    "    return data.rolling(window=window, min_periods=1).mean()\n",
    "\n",
    "def get_stock_data(ticker, start_date, end_date, interval='1d'):\n",
    "    \"\"\"\n",
    "    주어진 주식 코드와 기간에 해당하는 주식 데이터를 받아오는 함수.\n",
    "    \"\"\"\n",
    "    data = yf.download(ticker, start=start_date, end=end_date, interval=interval)\n",
    "    data = data[['Close', 'Volume']]\n",
    "    data = data.reset_index()\n",
    "    data.columns = ['Date', 'Close', 'Volume']\n",
    "\n",
    "    # 이동 평균선 계산\n",
    "    ma_columns = {}\n",
    "    for ma in [5, 10, 15, 20, 25, 30, 35, 40, 45, 50, 60] + list(range(70, 710, 10)):\n",
    "        ma_columns[f'SMA_{ma}'] = calculate_moving_average(data['Close'], ma)\n",
    "        ma_columns[f'VMA_{ma}'] = calculate_moving_average(data['Volume'], ma)\n",
    "    \n",
    "    ma_df = pd.DataFrame(ma_columns)\n",
    "    data = pd.concat([data[['Date']], ma_df], axis=1)\n",
    "    \n",
    "    return data\n",
    "\n",
    "def save_data_to_csv(data, filename):\n",
    "    \"\"\"\n",
    "    데이터를 CSV 파일로 저장하는 함수.\n",
    "    \"\"\"\n",
    "    data.to_csv(filename, index=False)\n",
    "    print(f'Data saved to {filename}')\n",
    "\n",
    "# 저장할 폴더 설정\n",
    "project_dir = 'csv'\n",
    "os.makedirs(project_dir, exist_ok=True)\n",
    "\n",
    "ticker = '^GSPC'\n",
    "start_date = '2004-01-01'\n",
    "end_date = '2023-03-01'\n",
    "filename = os.path.join(project_dir, 'sp500_moving_avg_data.csv')\n",
    "data = get_stock_data(ticker, start_date, end_date, interval='1d')\n",
    "save_data_to_csv(data, filename)\n",
    "\n",
    "# 저장할 주식 리스트\n",
    "tickers = ['AAPL', 'TSLA', 'GOOGL', 'MSFT', 'AMZN']\n",
    "for ticker in tickers:\n",
    "    filename = os.path.join(project_dir, f\"{ticker}_moving_avg_data.csv\")\n",
    "    print(f\"📥 Downloading {ticker} moving average data...\")\n",
    "    data = get_stock_data(ticker, start_date, end_date, interval='1d')\n",
    "    save_data_to_csv(data, filename)\n"
   ]
  }
 ],
 "metadata": {
  "kernelspec": {
   "display_name": "base",
   "language": "python",
   "name": "python3"
  },
  "language_info": {
   "codemirror_mode": {
    "name": "ipython",
    "version": 3
   },
   "file_extension": ".py",
   "mimetype": "text/x-python",
   "name": "python",
   "nbconvert_exporter": "python",
   "pygments_lexer": "ipython3",
   "version": "3.13.1"
  },
  "orig_nbformat": 4
 },
 "nbformat": 4,
 "nbformat_minor": 2
}
